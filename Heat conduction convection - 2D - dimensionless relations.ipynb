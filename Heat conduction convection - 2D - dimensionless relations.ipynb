{
 "cells": [
  {
   "cell_type": "code",
   "execution_count": null,
   "id": "6538312b",
   "metadata": {},
   "outputs": [],
   "source": [
    "import numpy as np\n",
    "from scipy.linalg import inv, det\n",
    "from scipy.integrate import odeint\n",
    "from scipy.interpolate import griddata\n",
    "import matplotlib.pyplot as plt\n",
    "from math import ceil, floor\n",
    "from scipy.special import jv\n",
    "from matplotlib.animation import FuncAnimation\n",
    "from mpl_toolkits.mplot3d import Axes3D\n",
    "%matplotlib inline"
   ]
  },
  {
   "cell_type": "markdown",
   "id": "159b90c9",
   "metadata": {},
   "source": [
    "## Discretizing the domain"
   ]
  },
  {
   "cell_type": "code",
   "execution_count": null,
   "id": "ec07167d",
   "metadata": {},
   "outputs": [],
   "source": [
    "R = 0.15 #m radius of the wafer\n",
    "d = 0.00076 #m thickness of the wafer\n",
    "\n",
    "Nr = 20 # amount of gridpoint in the r direction\n",
    "Ntheta = 40 # amount of gridpoint in theta direction, should be a multiple of 4\n",
    "\n",
    "N = Nr*Ntheta # total amount of gridpoint over the wafer\n",
    "\n",
    "dtheta = 2*np.pi/(Ntheta) # angular distance between the gridpoints\n",
    "dr = R/(Nr-1) # radial distance between the gridpoints\n",
    "\n",
    "ind = [(i, j) for i in range(Nr) for j in range(Ntheta)] # list of the index of every element in the temperature vector\n",
    "r = [i*dr for i in range(Nr) for j in range(Ntheta)] # list of the r-component\n",
    "theta = [j*dtheta for i in range(Nr) for j in range(Ntheta)] # list of the theta-component\n",
    "x = [np.abs(r[n]*np.cos(theta[n])+np.sqrt(R**2-r[n]**2*np.sin(theta[n])**2)) for n in range(N)] # list of the displacement \\n\n",
    "# from the left boundary, absolute value is to suppress noise in cosine\n",
    "y = [r[n]*np.sin(theta[n]) for n in range(N)]\n",
    "\n",
    "tsim = 20 # s total simulation time\n",
    "dt = 0.01 # s timestep\n",
    "tsteps = round(tsim/dt) # amount of timesteps\n",
    "\n",
    "tarray = np.linspace(0, tsim, tsteps) # numpy array of all the simulated timepoints"
   ]
  },
  {
   "cell_type": "markdown",
   "id": "c0629ba3",
   "metadata": {},
   "source": [
    "## Material and flow properties"
   ]
  },
  {
   "cell_type": "code",
   "execution_count": null,
   "id": "8ed78dc8",
   "metadata": {},
   "outputs": [],
   "source": [
    "points = np.array([[1, 0],[5, 0], [10, 0], [20, 0], [30, 0], [40, 0], [1, 25],[5, 25], [10, 25], [20, 25], [30, 25], [40, 25]])\n",
    "\n",
    "rhovalues = np.array([1.2758, 6.3940, 12.8230, 25.7770, 38.84, 51.991, 1.1685, 5.85, 11.717, 23.492, 35.308, 51.991])\n",
    "cpvalues = np.array([1005.9, 1013.9, 1023.9, 1044.3, 1065.1, 1086.2, 1006.5, 1012.9, 1021, 1037.2, 1053.6, 1070])\n",
    "lvalues = np.array([0.02436, 0.024505, 0.024696, 0.025118, 0.025589, 0.026102, 0.026247, 0.026376, 0.026549, 0.026925, 0.02734,\\\n",
    "                    0.027789])\n",
    "nuvalues = np.array([1.3496*10**-5, 2.7026*10**-6, 1.354*10**-6, 6.8059*10**-7, 4.5687*10**-7, 3.4556*10**-7, 1.5787*10**-5, \\\n",
    "                     3.1635*10**-6, 1.586*10**-6, 7.9812*10**-7, 5.3616*10**-7, 4.0568*10**-7])"
   ]
  },
  {
   "cell_type": "code",
   "execution_count": null,
   "id": "620fa72b",
   "metadata": {},
   "outputs": [],
   "source": [
    "# gas properties\n",
    "Tgas = 22 # Celsius temperature of the bulk gas\n",
    "pgas = 1 # bar pressure of the bulk gas\n",
    "\n",
    "nu = griddata(points, nuvalues, [pgas, Tgas], method='cubic') # m^2/s kinematic viscosity of the gas (air)\n",
    "lgas = griddata(points, lvalues, [pgas, Tgas], method='cubic') # W/(m K) thermal conductivity of gas (air)\n",
    "cpgas = griddata(points, cpvalues, [pgas, Tgas], method='cubic') # J/(kg K) specific heat of gas (air)\n",
    "rhogas = griddata(points, rhovalues, [pgas, Tgas], method='cubic') # kg/m^3 density of gas (air)\n",
    "\n",
    "\n",
    "# wafer material properties\n",
    "lsilicon = 130 # W/(m K) thermal conductivity of silicon (from VDL powerpoint)\n",
    "cpsilicon = 710 # J/(kg K) specific heat of silicon\n",
    "rhosilicon = 2330 # kg/m^3 density of silicon\n",
    "\n",
    "# Flow properties\n",
    "U = 117# m/s speed of the flow in the uniform regime\n",
    "\n",
    "Re = [U*x[n]/nu for n in range(N)] # list of the local reynolds number\n",
    "Pr = cpgas*rhogas*nu/lgas # Prandtl number\n",
    "#Nu = [0.332*Pr**(1/3)*Re[n]**(1/2) for n in range(N)] # local nusselt number\n",
    "Nu = [0.0296*Pr**(1/3)*Re[n]**(4/5) for n in range(N)] # local nusselt number\n",
    "\n",
    "h = [lgas*Nu[n]/x[n] for n in range(N)] #W/(m^2 K) local heat transfer coefficient\n",
    "harray = np.nan_to_num(np.array(h)).flatten() # numpy array of the local heat transfer coefficient. Nans are made zero"
   ]
  },
  {
   "cell_type": "markdown",
   "id": "f9590e4c",
   "metadata": {},
   "source": [
    "## Define the evolution matrix"
   ]
  },
  {
   "cell_type": "code",
   "execution_count": null,
   "id": "21b86e8f",
   "metadata": {},
   "outputs": [],
   "source": [
    "# construct the matrix equation M T^{n+1} = Q T^{n}\n",
    "alfa = lsilicon/(cpsilicon * rhosilicon) # m^2/s thermal diffusivity of silicon\n",
    "beta = 1/(cpsilicon*rhosilicon*d) # just a parameter to make life easier\n",
    "\n",
    "# initial definition of two matrices in equation: M.T(t+dt) = Q.T(t), where . mean a matrix multiplication\n",
    "M = np.zeros((N, N))\n",
    "Q = np.identity(N)\n",
    "\n",
    "# definition of the elements of M\n",
    "for n in range(N):\n",
    "    # Row corresponding to the gridpoints where r = R. No flux boundary, T(r, th) - T(r-dr, th) = 0\n",
    "    if ind[n][0] == Nr-1:\n",
    "        M[n, n] = 1\n",
    "        M[n, n-Ntheta] = -1\n",
    "        Q[n, n] = 0    \n",
    "    \n",
    "    # Row corresponding to the gridpoints r = 0.\n",
    "    elif ind[n][0] == 0:\n",
    "        # Row corresponding to theta != 0. These are equal to their neighbour, T(0, theta) - T(0, theta-dtheta) = 0\n",
    "        if ind[n][1] != 0:\n",
    "            M[n, n] = 1\n",
    "            M[n, n-1] = -1\n",
    "            Q[n, n] = 0\n",
    "        # Row corresponding to r = 0. Here the heat equation in cartesian coordinates is used with the gridpoints at\n",
    "        # r = dr and theta = 0, pi/2, pi, 3pi/4\n",
    "        else:            \n",
    "            M[n, n] = 1+4*alfa*dt/dr**2+h[n]*beta*dt\n",
    "            M[n, n+Ntheta] = -alfa*dt/dr**2\n",
    "            M[n, n+int(Ntheta+(Ntheta)/4)] = -alfa*dt/dr**2 \n",
    "            M[n, n+int(Ntheta+(Ntheta)/2)] = -alfa*dt/dr**2\n",
    "            M[n, n+int(Ntheta+3*(Ntheta)/4)] = -alfa*dt/dr**2\n",
    "            \n",
    "    # Row corresponding to theta = 2pi-dtheta. Periodic boundary, T(r, 2pi) = T(r, 0)\n",
    "    elif ind[n][1] == Ntheta-1:\n",
    "        M[n, n] = 1+2*alfa*dt*(1/dr**2+1/(r[n]*dtheta)**2)+h[n]*beta*dt\n",
    "        M[n, n+Ntheta] = -alfa*dt*(1/dr**2+1/(2*r[n]*dr))\n",
    "        M[n, n-Ntheta] = -alfa*dt*(1/dr**2-1/(2*r[n]*dr))\n",
    "        M[n, n-Ntheta+1] = -alfa*dt/(r[n]*dtheta)**2\n",
    "        M[n, n-1] = -alfa*dt/(r[n]*dtheta)**2\n",
    "        \n",
    "    # Row corresponding to theta = 0. Periodic boundary, T(r, -dtheta) = T(r, 2pi)\n",
    "    elif ind[n][1] == 0:\n",
    "        M[n, n] = 1+2*alfa*dt*(1/dr**2+1/(r[n]*dtheta)**2)+h[n]*beta*dt\n",
    "        M[n, n+Ntheta] = -alfa*dt*(1/dr**2+1/(2*r[n]*dr))\n",
    "        M[n, n-Ntheta] = -alfa*dt*(1/dr**2-1/(2*r[n]*dr))\n",
    "        M[n, n+1] = -alfa*dt/(r[n]*dtheta)**2\n",
    "        M[n, n+Ntheta-1] = -alfa*dt/(r[n]*dtheta)**2\n",
    "        \n",
    "    # Rows corresponding to gridpoints on the domain and not on the boundary.\n",
    "    else:        \n",
    "        M[n, n] = 1+2*alfa*dt*(1/dr**2+1/(r[n]*dtheta)**2)+h[n]*beta*dt\n",
    "        M[n, n+Ntheta] = -alfa*dt*(1/dr**2+1/(2*r[n]*dr))\n",
    "        M[n, n-Ntheta] = -alfa*dt*(1/dr**2-1/(2*r[n]*dr))\n",
    "        M[n, n+1] = -alfa*dt/(r[n]*dtheta)**2\n",
    "        M[n, n-1] = -alfa*dt/(r[n]*dtheta)**2\n",
    "           \n",
    "# Find the matrix P = M^-1.Q. It serves in the follow equation, T(t+dt) = P.(T(t)+h*Tenv*dt) \n",
    "P = np.matmul(inv(M), Q)"
   ]
  },
  {
   "cell_type": "markdown",
   "id": "b46251cd",
   "metadata": {},
   "source": [
    "## Defining initial condition"
   ]
  },
  {
   "cell_type": "code",
   "execution_count": null,
   "id": "f57c70b8",
   "metadata": {},
   "outputs": [],
   "source": [
    "# defining the matrix with the temperature vector at every tstep. Every row corresponds to a temperature vector at a certain \n",
    "# timestep\n",
    "T = np.zeros((tsteps, N))\n",
    "\n",
    "# defining the initial temperature vector\n",
    "for n in range(N):\n",
    "    T[0, n] = 22.8 + (0.2/0.581865)*jv(1, 1.84118*r[n]/R)*np.cos(theta[n])"
   ]
  },
  {
   "cell_type": "markdown",
   "id": "e9d1a554",
   "metadata": {},
   "source": [
    "## Run the simulation"
   ]
  },
  {
   "cell_type": "code",
   "execution_count": null,
   "id": "af71efe4",
   "metadata": {},
   "outputs": [],
   "source": [
    "# define the time and the index of the first temperature vector to be computed.\n",
    "t = dt\n",
    "i = 1\n",
    "\n",
    "# loop over all the simulation time\n",
    "while t < tsim:\n",
    "    # calculate the new temperature vector\n",
    "    T[i] = np.dot(P, T[i-1]+22*dt*harray*beta)\n",
    "    \n",
    "    # iterate the time and index\n",
    "    t += dt\n",
    "    i += 1"
   ]
  },
  {
   "cell_type": "markdown",
   "id": "0df9f1bc",
   "metadata": {},
   "source": [
    "## Plotting results\n",
    "### making a heatmap of the temperature over the wafer"
   ]
  },
  {
   "cell_type": "code",
   "execution_count": null,
   "id": "ecb2f878",
   "metadata": {},
   "outputs": [],
   "source": [
    "fig1 = plt.figure()\n",
    "\n",
    "rplot = np.zeros((Nr, Ntheta+1))\n",
    "rplot[:, :Ntheta] = np.array(r).reshape((Nr, Ntheta))\n",
    "rplot[:, Ntheta] = rplot[:, Ntheta-1]\n",
    "\n",
    "thetaplot = np.zeros((Nr, Ntheta+1))\n",
    "thetaplot[:, :Ntheta] = np.array(theta).reshape((Nr, Ntheta))\n",
    "thetaplot[: , Ntheta] = np.ones((Nr)) * np.pi * 2\n",
    "\n",
    "Tplot = np.zeros((Nr, Ntheta+1))\n",
    "Tplot[:, :Ntheta] = T[-1].reshape((Nr, Ntheta))*0\n",
    "Tplot[:, Ntheta] = Tplot[:, 0]\n",
    "\n",
    "ax1 = plt.subplot(projection='polar')\n",
    "\n",
    "pc = ax1.pcolormesh(thetaplot, rplot, Tplot, shading='gouraud')\n",
    "\n",
    "cbar = fig1.colorbar(pc)\n",
    "cbar.ax.set_ylabel('Temperature (C)', loc='center')\n",
    "#ax1.set_title(\"Temperature over the wafer in Celsius\")\n",
    "plt.axis('off')\n",
    "#plt.savefig('temperature constant')\n",
    "#plt.grid()"
   ]
  },
  {
   "cell_type": "markdown",
   "id": "0bf24ea7",
   "metadata": {},
   "source": [
    "### making a graph of the average temperature and non-uniformity against time"
   ]
  },
  {
   "cell_type": "code",
   "execution_count": null,
   "id": "ad99b53f",
   "metadata": {
    "scrolled": true
   },
   "outputs": [],
   "source": [
    "ReL = U*R/nu\n",
    "NuL = 0.037 * ReL**(4/5) * Pr**(1/3)\n",
    "hL = NuL*(lgas/R)\n",
    "\n",
    "#fig2 = plt.figure()\n",
    "fig2, (ax2, ax3) = plt.subplots(1, 2, figsize=(10, 4))\n",
    "\n",
    "ax2.plot(tarray, np.mean(T, axis=1))\n",
    "ax2.plot(tarray, 22+0.8*np.exp(-hL*tarray/(rhosilicon*cpsilicon*d)), '--')\n",
    "ax2.legend(['Simulation', 'Lumped mass'])\n",
    "ax3.plot(tarray, np.max(T, axis=1)-np.min(T, axis=1))\n",
    "ax2.set_ylabel(\"Average temperature over the wafer (C)\")\n",
    "ax2.set_xlabel(\"Time (s)\")\n",
    "ax3.set_xlabel(\"Time (s)\")\n",
    "ax3.set_ylabel('non-uniformity on the wafer')\n",
    "\n",
    "np.max(T[-1]) - np.min(T[-1])\n",
    "\n",
    "plt.savefig(\"modelat 117ms 1bar\")"
   ]
  }
 ],
 "metadata": {
  "kernelspec": {
   "display_name": "Python 3",
   "language": "python",
   "name": "python3"
  },
  "language_info": {
   "codemirror_mode": {
    "name": "ipython",
    "version": 3
   },
   "file_extension": ".py",
   "mimetype": "text/x-python",
   "name": "python",
   "nbconvert_exporter": "python",
   "pygments_lexer": "ipython3",
   "version": "3.8.8"
  }
 },
 "nbformat": 4,
 "nbformat_minor": 5
}
